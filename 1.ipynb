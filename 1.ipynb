{
 "cells": [
  {
   "cell_type": "code",
   "execution_count": 1,
   "metadata": {},
   "outputs": [
    {
     "name": "stderr",
     "output_type": "stream",
     "text": [
      "/Users/beetlea/Library/Python/3.9/lib/python/site-packages/urllib3/__init__.py:34: NotOpenSSLWarning: urllib3 v2.0 only supports OpenSSL 1.1.1+, currently the 'ssl' module is compiled with 'LibreSSL 2.8.3'. See: https://github.com/urllib3/urllib3/issues/3020\n",
      "  warnings.warn(\n"
     ]
    },
    {
     "name": "stdout",
     "output_type": "stream",
     "text": [
      "     Weather\n",
      "0     1010.6\n",
      "1     1013.4\n",
      "2       12.5\n",
      "3       10.5\n",
      "4        5.0\n",
      "...      ...\n",
      "3675        \n",
      "3676        \n",
      "3677        \n",
      "3678        \n",
      "3679        \n",
      "\n",
      "[3680 rows x 1 columns]\n"
     ]
    }
   ],
   "source": [
    "import requests\n",
    "from bs4 import BeautifulSoup\n",
    "import pandas as pd\n",
    "import time\n",
    "\n",
    "def scrape_weather_data(start_year, start_month, end_year, end_month, prec_no, block_no):\n",
    "    base_url = \"https://www.data.jma.go.jp/stats/etrn/view/daily_s1.php\"\n",
    "    data = []\n",
    "\n",
    "    for year in range(start_year, end_year + 1):\n",
    "        for month in range(1, 13):\n",
    "            # 期間外の月はスキップ\n",
    "            if year == start_year and month < start_month:\n",
    "                continue\n",
    "            if year == end_year and month > end_month:\n",
    "                break\n",
    "\n",
    "            params = {\n",
    "                \"prec_no\": prec_no,\n",
    "                \"block_no\": block_no,\n",
    "                \"year\": year,\n",
    "                \"month\": month,\n",
    "                \"day\": \"\",\n",
    "                \"view\": \"p1\"\n",
    "            }\n",
    "            response = requests.get(base_url, params=params)\n",
    "            soup = BeautifulSoup(response.content, 'html.parser')\n",
    "\n",
    "            # 天気データを抽出\n",
    "            for row in soup.find_all('tr', class_='mtx'):\n",
    "                weather_cells = row.find_all('td', class_='data_0_0')\n",
    "                for cell in weather_cells:\n",
    "                    weather = cell.get_text().strip()  # 天気データのテキストを取得\n",
    "                    # ここで日付や他の関連データと一緒に保存することもできます\n",
    "                    data.append(weather)  # 抽出したデータをリストに追加\n",
    "\n",
    "            # サーバーへの負荷を避けるために少し待機\n",
    "            time.sleep(1)\n",
    "\n",
    "    # pandas DataFrameに変換\n",
    "    df = pd.DataFrame(data, columns=['Weather'])\n",
    "    return df\n",
    "\n",
    "# スクレイピングの実行\n",
    "prec_no = 44  # 地点番号\n",
    "block_no = 47662  # ブロック番号\n",
    "start_year = 2023\n",
    "start_month = 8\n",
    "end_year = 2024\n",
    "end_month = 1\n",
    "\n",
    "weather_data = scrape_weather_data(start_year, start_month, end_year, end_month, prec_no, block_no)\n",
    "print(weather_data)"
   ]
  }
 ],
 "metadata": {
  "kernelspec": {
   "display_name": "Python 3",
   "language": "python",
   "name": "python3"
  },
  "language_info": {
   "codemirror_mode": {
    "name": "ipython",
    "version": 3
   },
   "file_extension": ".py",
   "mimetype": "text/x-python",
   "name": "python",
   "nbconvert_exporter": "python",
   "pygments_lexer": "ipython3",
   "version": "3.9.6"
  }
 },
 "nbformat": 4,
 "nbformat_minor": 2
}
